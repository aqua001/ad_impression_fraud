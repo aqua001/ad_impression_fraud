{
 "cells": [
  {
   "cell_type": "code",
   "execution_count": 1,
   "metadata": {
    "collapsed": true
   },
   "outputs": [],
   "source": [
    "import numpy as np\n",
    "import pandas as pd\n",
    "import matplotlib.pyplot as plt\n",
    "plt.style.use('ggplot')\n",
    "%matplotlib inline"
   ]
  },
  {
   "cell_type": "code",
   "execution_count": 21,
   "metadata": {
    "collapsed": false
   },
   "outputs": [
    {
     "data": {
      "text/html": [
       "<div>\n",
       "<table border=\"1\" class=\"dataframe\">\n",
       "  <thead>\n",
       "    <tr style=\"text-align: right;\">\n",
       "      <th></th>\n",
       "      <th>Timestamp</th>\n",
       "      <th>IPadd</th>\n",
       "      <th>Browser</th>\n",
       "      <th>UserA</th>\n",
       "      <th>Host</th>\n",
       "      <th>Inview</th>\n",
       "      <th>Nplugins</th>\n",
       "      <th>Wpossize</th>\n",
       "      <th>Latency</th>\n",
       "    </tr>\n",
       "  </thead>\n",
       "  <tbody>\n",
       "    <tr>\n",
       "      <th>0</th>\n",
       "      <td>2014-08-25 00:00:00</td>\n",
       "      <td>393.414.443.469</td>\n",
       "      <td>Safari/Webkit</td>\n",
       "      <td>Mozilla/5.0 (Macintosh; Intel Mac OS X 10_6_8)...</td>\n",
       "      <td>http://www.domain.com.au</td>\n",
       "      <td>0</td>\n",
       "      <td>NaN</td>\n",
       "      <td>(0,0,1280,629)</td>\n",
       "      <td>0</td>\n",
       "    </tr>\n",
       "    <tr>\n",
       "      <th>1</th>\n",
       "      <td>2014-08-25 00:00:00</td>\n",
       "      <td>393.414.443.469</td>\n",
       "      <td>Safari/Webkit</td>\n",
       "      <td>Mozilla/5.0 (Macintosh; Intel Mac OS X 10_6_8)...</td>\n",
       "      <td>http://www.domain.com.au</td>\n",
       "      <td>0</td>\n",
       "      <td>NaN</td>\n",
       "      <td>(0,0,1280,629)</td>\n",
       "      <td>0</td>\n",
       "    </tr>\n",
       "    <tr>\n",
       "      <th>2</th>\n",
       "      <td>2014-08-25 00:00:00</td>\n",
       "      <td>325.441.386.395</td>\n",
       "      <td>Unknown</td>\n",
       "      <td>Mozilla/5.0 (Windows NT 6.1; WOW64) AppleWebKi...</td>\n",
       "      <td>http://www.mangareader.net</td>\n",
       "      <td>NaN</td>\n",
       "      <td>NaN</td>\n",
       "      <td>NaN</td>\n",
       "      <td>NaN</td>\n",
       "    </tr>\n",
       "    <tr>\n",
       "      <th>3</th>\n",
       "      <td>2014-08-25 00:00:00</td>\n",
       "      <td>325.441.386.395</td>\n",
       "      <td>Unknown</td>\n",
       "      <td>Mozilla/5.0 (Windows NT 6.1; WOW64) AppleWebKi...</td>\n",
       "      <td>http://www.mangareader.net</td>\n",
       "      <td>NaN</td>\n",
       "      <td>NaN</td>\n",
       "      <td>NaN</td>\n",
       "      <td>NaN</td>\n",
       "    </tr>\n",
       "    <tr>\n",
       "      <th>4</th>\n",
       "      <td>2014-08-25 00:00:00</td>\n",
       "      <td>325.441.386.395</td>\n",
       "      <td>Unknown</td>\n",
       "      <td>Mozilla/5.0 (Windows NT 6.1; WOW64) AppleWebKi...</td>\n",
       "      <td>http://www.mangareader.net</td>\n",
       "      <td>NaN</td>\n",
       "      <td>NaN</td>\n",
       "      <td>NaN</td>\n",
       "      <td>NaN</td>\n",
       "    </tr>\n",
       "    <tr>\n",
       "      <th>5</th>\n",
       "      <td>2014-08-25 00:00:00</td>\n",
       "      <td>326.432.563.561</td>\n",
       "      <td>Chrome</td>\n",
       "      <td>Mozilla/5.0 (Windows NT 6.1; WOW64) AppleWebKi...</td>\n",
       "      <td>http://failblog.cheezburger.com</td>\n",
       "      <td>0</td>\n",
       "      <td>25</td>\n",
       "      <td>(0,0,1366,643)</td>\n",
       "      <td>73</td>\n",
       "    </tr>\n",
       "    <tr>\n",
       "      <th>6</th>\n",
       "      <td>2014-08-25 00:00:02</td>\n",
       "      <td>445.435.337.514</td>\n",
       "      <td>Unknown</td>\n",
       "      <td>Mozilla/5.0 (compatible; MSIE 9.0; Windows NT ...</td>\n",
       "      <td>http://cars-expert.com</td>\n",
       "      <td>NaN</td>\n",
       "      <td>NaN</td>\n",
       "      <td>NaN</td>\n",
       "      <td>NaN</td>\n",
       "    </tr>\n",
       "    <tr>\n",
       "      <th>7</th>\n",
       "      <td>2014-08-25 00:00:03</td>\n",
       "      <td>386.335.512.400</td>\n",
       "      <td>Safari/Webkit</td>\n",
       "      <td>Mozilla/5.0 (iPhone; CPU iPhone OS 7_1_2 like ...</td>\n",
       "      <td>http://www.lovepoemsandquotes.com</td>\n",
       "      <td>0</td>\n",
       "      <td>1</td>\n",
       "      <td>(0,0,1000,1163)</td>\n",
       "      <td>0</td>\n",
       "    </tr>\n",
       "    <tr>\n",
       "      <th>8</th>\n",
       "      <td>2014-08-25 00:00:03</td>\n",
       "      <td>488.432.432.344</td>\n",
       "      <td>Chrome</td>\n",
       "      <td>Mozilla/5.0 (Windows NT 6.1; WOW64) AppleWebKi...</td>\n",
       "      <td>http://ads.bossip.com</td>\n",
       "      <td>1</td>\n",
       "      <td>23</td>\n",
       "      <td>NaN</td>\n",
       "      <td>386</td>\n",
       "    </tr>\n",
       "    <tr>\n",
       "      <th>9</th>\n",
       "      <td>2014-08-25 00:00:03</td>\n",
       "      <td>412.428.488.484</td>\n",
       "      <td>Chrome</td>\n",
       "      <td>Mozilla/5.0 (Macintosh; Intel Mac OS X 10_9_4)...</td>\n",
       "      <td>http://fw.adsafeprotected.com</td>\n",
       "      <td>0</td>\n",
       "      <td>12</td>\n",
       "      <td>NaN</td>\n",
       "      <td>0</td>\n",
       "    </tr>\n",
       "  </tbody>\n",
       "</table>\n",
       "</div>"
      ],
      "text/plain": [
       "             Timestamp            IPadd        Browser  \\\n",
       "0  2014-08-25 00:00:00  393.414.443.469  Safari/Webkit   \n",
       "1  2014-08-25 00:00:00  393.414.443.469  Safari/Webkit   \n",
       "2  2014-08-25 00:00:00  325.441.386.395        Unknown   \n",
       "3  2014-08-25 00:00:00  325.441.386.395        Unknown   \n",
       "4  2014-08-25 00:00:00  325.441.386.395        Unknown   \n",
       "5  2014-08-25 00:00:00  326.432.563.561         Chrome   \n",
       "6  2014-08-25 00:00:02  445.435.337.514        Unknown   \n",
       "7  2014-08-25 00:00:03  386.335.512.400  Safari/Webkit   \n",
       "8  2014-08-25 00:00:03  488.432.432.344         Chrome   \n",
       "9  2014-08-25 00:00:03  412.428.488.484         Chrome   \n",
       "\n",
       "                                               UserA  \\\n",
       "0  Mozilla/5.0 (Macintosh; Intel Mac OS X 10_6_8)...   \n",
       "1  Mozilla/5.0 (Macintosh; Intel Mac OS X 10_6_8)...   \n",
       "2  Mozilla/5.0 (Windows NT 6.1; WOW64) AppleWebKi...   \n",
       "3  Mozilla/5.0 (Windows NT 6.1; WOW64) AppleWebKi...   \n",
       "4  Mozilla/5.0 (Windows NT 6.1; WOW64) AppleWebKi...   \n",
       "5  Mozilla/5.0 (Windows NT 6.1; WOW64) AppleWebKi...   \n",
       "6  Mozilla/5.0 (compatible; MSIE 9.0; Windows NT ...   \n",
       "7  Mozilla/5.0 (iPhone; CPU iPhone OS 7_1_2 like ...   \n",
       "8  Mozilla/5.0 (Windows NT 6.1; WOW64) AppleWebKi...   \n",
       "9  Mozilla/5.0 (Macintosh; Intel Mac OS X 10_9_4)...   \n",
       "\n",
       "                                Host  Inview  Nplugins         Wpossize  \\\n",
       "0           http://www.domain.com.au       0       NaN   (0,0,1280,629)   \n",
       "1           http://www.domain.com.au       0       NaN   (0,0,1280,629)   \n",
       "2         http://www.mangareader.net     NaN       NaN              NaN   \n",
       "3         http://www.mangareader.net     NaN       NaN              NaN   \n",
       "4         http://www.mangareader.net     NaN       NaN              NaN   \n",
       "5    http://failblog.cheezburger.com       0        25   (0,0,1366,643)   \n",
       "6             http://cars-expert.com     NaN       NaN              NaN   \n",
       "7  http://www.lovepoemsandquotes.com       0         1  (0,0,1000,1163)   \n",
       "8              http://ads.bossip.com       1        23              NaN   \n",
       "9      http://fw.adsafeprotected.com       0        12              NaN   \n",
       "\n",
       "   Latency  \n",
       "0        0  \n",
       "1        0  \n",
       "2      NaN  \n",
       "3      NaN  \n",
       "4      NaN  \n",
       "5       73  \n",
       "6      NaN  \n",
       "7        0  \n",
       "8      386  \n",
       "9        0  "
      ]
     },
     "execution_count": 21,
     "metadata": {},
     "output_type": "execute_result"
    }
   ],
   "source": [
    "imp_df = pd.io.parsers.read_csv(\"ad_impression_data_set.tsv\",sep='\\t',\n",
    "                                names=['Timestamp','IPadd','Browser','UserA','Host','Inview','Nplugins','Wpossize','Latency'],\n",
    "                               header=None)\n",
    "imp_df.head(10)"
   ]
  },
  {
   "cell_type": "code",
   "execution_count": 17,
   "metadata": {
    "collapsed": false
   },
   "outputs": [
    {
     "data": {
      "text/plain": [
       "Timestamp     object\n",
       "IPadd         object\n",
       "Browser       object\n",
       "UserA         object\n",
       "Host          object\n",
       "Inview       float64\n",
       "Nplugins     float64\n",
       "Wpossize      object\n",
       "Latency      float64\n",
       "dtype: object"
      ]
     },
     "execution_count": 17,
     "metadata": {},
     "output_type": "execute_result"
    }
   ],
   "source": [
    "imp_df.dtypes"
   ]
  },
  {
   "cell_type": "code",
   "execution_count": 12,
   "metadata": {
    "collapsed": false
   },
   "outputs": [],
   "source": [
    "imp_df.Timestamp = pd.to_datetime(imp_df.Timestamp, format='%Y-%m-%d %H:%M:%S')\n",
    "imp_df.dtypes"
   ]
  },
  {
   "cell_type": "code",
   "execution_count": 20,
   "metadata": {
    "collapsed": false
   },
   "outputs": [
    {
     "data": {
      "text/plain": [
       "['Mozilla/5.0',\n",
       " '(Macintosh;',\n",
       " 'Intel',\n",
       " 'Mac',\n",
       " 'OS',\n",
       " 'X',\n",
       " '10_6_8)',\n",
       " 'AppleWebKit/534.59.10',\n",
       " '(KHTML,',\n",
       " 'like',\n",
       " 'Gecko)',\n",
       " 'Version/5.1.9',\n",
       " 'Safari/534.59.10']"
      ]
     },
     "execution_count": 20,
     "metadata": {},
     "output_type": "execute_result"
    }
   ],
   "source": [
    "imp_df.UserA[0].split()"
   ]
  },
  {
   "cell_type": "code",
   "execution_count": null,
   "metadata": {
    "collapsed": true
   },
   "outputs": [],
   "source": []
  }
 ],
 "metadata": {
  "kernelspec": {
   "display_name": "Python 2",
   "language": "python",
   "name": "python2"
  },
  "language_info": {
   "codemirror_mode": {
    "name": "ipython",
    "version": 2
   },
   "file_extension": ".py",
   "mimetype": "text/x-python",
   "name": "python",
   "nbconvert_exporter": "python",
   "pygments_lexer": "ipython2",
   "version": "2.7.6"
  }
 },
 "nbformat": 4,
 "nbformat_minor": 0
}
